{
 "cells": [
  {
   "cell_type": "markdown",
   "metadata": {},
   "source": [
    "## Api URLS\n",
    "#### https://www.alphavantage.co/documentation/\n",
    "#### https://datahub.io/core/s-and-p-500-companies#data-cli"
   ]
  },
  {
   "cell_type": "code",
   "execution_count": 1,
   "metadata": {},
   "outputs": [
    {
     "name": "stdout",
     "output_type": "stream",
     "text": [
      "Populating the interactive namespace from numpy and matplotlib\n"
     ]
    }
   ],
   "source": [
    "# import dependencies\n",
    "import csv\n",
    "import calendar\n",
    "\n",
    "# API Dependencies\n",
    "import requests\n",
    "import json\n",
    "from pandas.io.json import json_normalize # deal with nested columns in api\n",
    "\n",
    "# data science libraries\n",
    "import pandas as pd\n",
    "import matplotlib.pyplot as plt\n",
    "import numpy as np\n",
    "\n",
    "#formatting detail for visualizations.\n",
    "%matplotlib inline\n",
    "%pylab inline\n",
    "\n",
    "# Config file keys.  We can import multiple keys variables in here\n",
    "from config import av_key # api key for alpha vantage"
   ]
  },
  {
   "cell_type": "code",
   "execution_count": 2,
   "metadata": {},
   "outputs": [
    {
     "data": {
      "text/html": [
       "<div>\n",
       "<style scoped>\n",
       "    .dataframe tbody tr th:only-of-type {\n",
       "        vertical-align: middle;\n",
       "    }\n",
       "\n",
       "    .dataframe tbody tr th {\n",
       "        vertical-align: top;\n",
       "    }\n",
       "\n",
       "    .dataframe thead th {\n",
       "        text-align: right;\n",
       "    }\n",
       "</style>\n",
       "<table border=\"1\" class=\"dataframe\">\n",
       "  <thead>\n",
       "    <tr style=\"text-align: right;\">\n",
       "      <th></th>\n",
       "      <th>Symbol</th>\n",
       "      <th>Name</th>\n",
       "      <th>Sector</th>\n",
       "      <th>Price</th>\n",
       "      <th>Price/Earnings</th>\n",
       "      <th>Dividend Yield</th>\n",
       "      <th>Earnings/Share</th>\n",
       "      <th>52 Week Low</th>\n",
       "      <th>52 Week High</th>\n",
       "      <th>Market Cap</th>\n",
       "      <th>EBITDA</th>\n",
       "      <th>Price/Sales</th>\n",
       "      <th>Price/Book</th>\n",
       "      <th>SEC Filings</th>\n",
       "    </tr>\n",
       "  </thead>\n",
       "  <tbody>\n",
       "    <tr>\n",
       "      <th>0</th>\n",
       "      <td>MMM</td>\n",
       "      <td>3M Company</td>\n",
       "      <td>Industrials</td>\n",
       "      <td>222.89</td>\n",
       "      <td>24.31</td>\n",
       "      <td>2.332862</td>\n",
       "      <td>7.92</td>\n",
       "      <td>259.77</td>\n",
       "      <td>175.490</td>\n",
       "      <td>138721055226</td>\n",
       "      <td>9.048000e+09</td>\n",
       "      <td>4.390271</td>\n",
       "      <td>11.34</td>\n",
       "      <td>http://www.sec.gov/cgi-bin/browse-edgar?action...</td>\n",
       "    </tr>\n",
       "    <tr>\n",
       "      <th>1</th>\n",
       "      <td>AOS</td>\n",
       "      <td>A.O. Smith Corp</td>\n",
       "      <td>Industrials</td>\n",
       "      <td>60.24</td>\n",
       "      <td>27.76</td>\n",
       "      <td>1.147959</td>\n",
       "      <td>1.70</td>\n",
       "      <td>68.39</td>\n",
       "      <td>48.925</td>\n",
       "      <td>10783419933</td>\n",
       "      <td>6.010000e+08</td>\n",
       "      <td>3.575483</td>\n",
       "      <td>6.35</td>\n",
       "      <td>http://www.sec.gov/cgi-bin/browse-edgar?action...</td>\n",
       "    </tr>\n",
       "    <tr>\n",
       "      <th>2</th>\n",
       "      <td>ABT</td>\n",
       "      <td>Abbott Laboratories</td>\n",
       "      <td>Health Care</td>\n",
       "      <td>56.27</td>\n",
       "      <td>22.51</td>\n",
       "      <td>1.908982</td>\n",
       "      <td>0.26</td>\n",
       "      <td>64.60</td>\n",
       "      <td>42.280</td>\n",
       "      <td>102121042306</td>\n",
       "      <td>5.744000e+09</td>\n",
       "      <td>3.740480</td>\n",
       "      <td>3.19</td>\n",
       "      <td>http://www.sec.gov/cgi-bin/browse-edgar?action...</td>\n",
       "    </tr>\n",
       "    <tr>\n",
       "      <th>3</th>\n",
       "      <td>ABBV</td>\n",
       "      <td>AbbVie Inc.</td>\n",
       "      <td>Health Care</td>\n",
       "      <td>108.48</td>\n",
       "      <td>19.41</td>\n",
       "      <td>2.499560</td>\n",
       "      <td>3.29</td>\n",
       "      <td>125.86</td>\n",
       "      <td>60.050</td>\n",
       "      <td>181386347059</td>\n",
       "      <td>1.031000e+10</td>\n",
       "      <td>6.291571</td>\n",
       "      <td>26.14</td>\n",
       "      <td>http://www.sec.gov/cgi-bin/browse-edgar?action...</td>\n",
       "    </tr>\n",
       "    <tr>\n",
       "      <th>4</th>\n",
       "      <td>ACN</td>\n",
       "      <td>Accenture plc</td>\n",
       "      <td>Information Technology</td>\n",
       "      <td>150.51</td>\n",
       "      <td>25.47</td>\n",
       "      <td>1.714470</td>\n",
       "      <td>5.44</td>\n",
       "      <td>162.60</td>\n",
       "      <td>114.820</td>\n",
       "      <td>98765855553</td>\n",
       "      <td>5.643228e+09</td>\n",
       "      <td>2.604117</td>\n",
       "      <td>10.62</td>\n",
       "      <td>http://www.sec.gov/cgi-bin/browse-edgar?action...</td>\n",
       "    </tr>\n",
       "  </tbody>\n",
       "</table>\n",
       "</div>"
      ],
      "text/plain": [
       "  Symbol                 Name                  Sector   Price  Price/Earnings  \\\n",
       "0    MMM           3M Company             Industrials  222.89           24.31   \n",
       "1    AOS      A.O. Smith Corp             Industrials   60.24           27.76   \n",
       "2    ABT  Abbott Laboratories             Health Care   56.27           22.51   \n",
       "3   ABBV          AbbVie Inc.             Health Care  108.48           19.41   \n",
       "4    ACN        Accenture plc  Information Technology  150.51           25.47   \n",
       "\n",
       "   Dividend Yield  Earnings/Share  52 Week Low  52 Week High    Market Cap  \\\n",
       "0        2.332862            7.92       259.77       175.490  138721055226   \n",
       "1        1.147959            1.70        68.39        48.925   10783419933   \n",
       "2        1.908982            0.26        64.60        42.280  102121042306   \n",
       "3        2.499560            3.29       125.86        60.050  181386347059   \n",
       "4        1.714470            5.44       162.60       114.820   98765855553   \n",
       "\n",
       "         EBITDA  Price/Sales  Price/Book  \\\n",
       "0  9.048000e+09     4.390271       11.34   \n",
       "1  6.010000e+08     3.575483        6.35   \n",
       "2  5.744000e+09     3.740480        3.19   \n",
       "3  1.031000e+10     6.291571       26.14   \n",
       "4  5.643228e+09     2.604117       10.62   \n",
       "\n",
       "                                         SEC Filings  \n",
       "0  http://www.sec.gov/cgi-bin/browse-edgar?action...  \n",
       "1  http://www.sec.gov/cgi-bin/browse-edgar?action...  \n",
       "2  http://www.sec.gov/cgi-bin/browse-edgar?action...  \n",
       "3  http://www.sec.gov/cgi-bin/browse-edgar?action...  \n",
       "4  http://www.sec.gov/cgi-bin/browse-edgar?action...  "
      ]
     },
     "execution_count": 2,
     "metadata": {},
     "output_type": "execute_result"
    }
   ],
   "source": [
    "# determine the top companies from datahub stock cli\n",
    "data_url = \"https://datahub.io/core/s-and-p-500-companies-financials/r/constituents-financials.csv\"\n",
    "datahub_df = pd.read_csv(data_url) # raw_df\n",
    "\n",
    "datahub_df.head()"
   ]
  },
  {
   "cell_type": "code",
   "execution_count": 3,
   "metadata": {},
   "outputs": [
    {
     "data": {
      "text/html": [
       "<div>\n",
       "<style scoped>\n",
       "    .dataframe tbody tr th:only-of-type {\n",
       "        vertical-align: middle;\n",
       "    }\n",
       "\n",
       "    .dataframe tbody tr th {\n",
       "        vertical-align: top;\n",
       "    }\n",
       "\n",
       "    .dataframe thead th {\n",
       "        text-align: right;\n",
       "    }\n",
       "</style>\n",
       "<table border=\"1\" class=\"dataframe\">\n",
       "  <thead>\n",
       "    <tr style=\"text-align: right;\">\n",
       "      <th></th>\n",
       "      <th>Price</th>\n",
       "      <th>Price/Earnings</th>\n",
       "      <th>Dividend Yield</th>\n",
       "      <th>Earnings/Share</th>\n",
       "      <th>52 Week Low</th>\n",
       "      <th>52 Week High</th>\n",
       "      <th>Market Cap</th>\n",
       "      <th>EBITDA</th>\n",
       "      <th>Price/Sales</th>\n",
       "      <th>Price/Book</th>\n",
       "    </tr>\n",
       "    <tr>\n",
       "      <th>Sector</th>\n",
       "      <th></th>\n",
       "      <th></th>\n",
       "      <th></th>\n",
       "      <th></th>\n",
       "      <th></th>\n",
       "      <th></th>\n",
       "      <th></th>\n",
       "      <th></th>\n",
       "      <th></th>\n",
       "      <th></th>\n",
       "    </tr>\n",
       "  </thead>\n",
       "  <tbody>\n",
       "    <tr>\n",
       "      <th>Information Technology</th>\n",
       "      <td>8347.00</td>\n",
       "      <td>2602.59</td>\n",
       "      <td>85.994554</td>\n",
       "      <td>217.70</td>\n",
       "      <td>9714.5049</td>\n",
       "      <td>6432.399100</td>\n",
       "      <td>6727121800912</td>\n",
       "      <td>4.313397e+11</td>\n",
       "      <td>411.609970</td>\n",
       "      <td>761.15</td>\n",
       "    </tr>\n",
       "    <tr>\n",
       "      <th>Financials</th>\n",
       "      <td>6055.81</td>\n",
       "      <td>1169.53</td>\n",
       "      <td>137.172367</td>\n",
       "      <td>301.71</td>\n",
       "      <td>6923.8857</td>\n",
       "      <td>4943.223800</td>\n",
       "      <td>3442649464852</td>\n",
       "      <td>3.597660e+10</td>\n",
       "      <td>228.356354</td>\n",
       "      <td>458.00</td>\n",
       "    </tr>\n",
       "    <tr>\n",
       "      <th>Health Care</th>\n",
       "      <td>8083.46</td>\n",
       "      <td>1406.27</td>\n",
       "      <td>55.951842</td>\n",
       "      <td>264.77</td>\n",
       "      <td>9806.2706</td>\n",
       "      <td>6326.874430</td>\n",
       "      <td>3244359043367</td>\n",
       "      <td>2.231056e+11</td>\n",
       "      <td>294.461598</td>\n",
       "      <td>540.34</td>\n",
       "    </tr>\n",
       "    <tr>\n",
       "      <th>Consumer Discretionary</th>\n",
       "      <td>10418.90</td>\n",
       "      <td>2119.49</td>\n",
       "      <td>132.082638</td>\n",
       "      <td>409.84</td>\n",
       "      <td>12342.2399</td>\n",
       "      <td>8071.758553</td>\n",
       "      <td>3213562747315</td>\n",
       "      <td>2.941510e+11</td>\n",
       "      <td>191.164584</td>\n",
       "      <td>2440.66</td>\n",
       "    </tr>\n",
       "  </tbody>\n",
       "</table>\n",
       "</div>"
      ],
      "text/plain": [
       "                           Price  Price/Earnings  Dividend Yield  \\\n",
       "Sector                                                             \n",
       "Information Technology   8347.00         2602.59       85.994554   \n",
       "Financials               6055.81         1169.53      137.172367   \n",
       "Health Care              8083.46         1406.27       55.951842   \n",
       "Consumer Discretionary  10418.90         2119.49      132.082638   \n",
       "\n",
       "                        Earnings/Share  52 Week Low  52 Week High  \\\n",
       "Sector                                                              \n",
       "Information Technology          217.70    9714.5049   6432.399100   \n",
       "Financials                      301.71    6923.8857   4943.223800   \n",
       "Health Care                     264.77    9806.2706   6326.874430   \n",
       "Consumer Discretionary          409.84   12342.2399   8071.758553   \n",
       "\n",
       "                           Market Cap        EBITDA  Price/Sales  Price/Book  \n",
       "Sector                                                                        \n",
       "Information Technology  6727121800912  4.313397e+11   411.609970      761.15  \n",
       "Financials              3442649464852  3.597660e+10   228.356354      458.00  \n",
       "Health Care             3244359043367  2.231056e+11   294.461598      540.34  \n",
       "Consumer Discretionary  3213562747315  2.941510e+11   191.164584     2440.66  "
      ]
     },
     "metadata": {},
     "output_type": "display_data"
    }
   ],
   "source": [
    "# Sector Analysis\n",
    "\n",
    "# sector data - sum vs mean for groupby analaysis\n",
    "sector_df = datahub_df.groupby(\"Sector\").sum() \n",
    "\n",
    "# whichever sectors have the highest market cap will be shown following the call below. \n",
    "top_4_market_cap_df = sector_df.nlargest(4, 'Market Cap')\n",
    "\n",
    "display(top_4_market_cap_df)"
   ]
  },
  {
   "cell_type": "code",
   "execution_count": 4,
   "metadata": {},
   "outputs": [
    {
     "data": {
      "text/plain": [
       "Text(0.5, 1.0, 'S&P 500 Market Cap')"
      ]
     },
     "execution_count": 4,
     "metadata": {},
     "output_type": "execute_result"
    },
    {
     "data": {
      "image/png": "[encoded data removed]",
      "text/plain": [
       "<Figure size 432x288 with 1 Axes>"
      ]
     },
     "metadata": {},
     "output_type": "display_data"
    }
   ],
   "source": [
    "# Figure 1 - Pie chart\n",
    "\n",
    "# create data series\n",
    "Sectors = sector_df.index\n",
    "Market_Cap = sector_df[\"Market Cap\"]\n",
    "\n",
    "# Plot\n",
    "plt.pie(Market_Cap, labels=Sectors, startangle=10, autopct='%.1f%%')\n",
    "plt.title('S&P 500 Market Cap')"
   ]
  },
  {
   "cell_type": "code",
   "execution_count": 5,
   "metadata": {},
   "outputs": [
    {
     "name": "stdout",
     "output_type": "stream",
     "text": [
      "[['AAPL', 'GOOGL', 'GOOG', 'MSFT'], ['JPM', 'BAC', 'WFC', 'BRK.B'], ['JNJ', 'UNH', 'PFE', 'ABBV'], ['AMZN', 'HD', 'CMCSA', 'DIS']]\n"
     ]
    }
   ],
   "source": [
    "# Sector Analysis:  Top Companies in S and P 500\n",
    "# this part of the analysis will determine the top 4 companies in each of the top sectors in the S & P 500\n",
    "# symbols will be a list of lists, with each sector occupying a row\n",
    "\n",
    "# store the top 4 sectors in a list\n",
    "top_four_sectors_array = top_4_market_cap_df.index\n",
    "\n",
    "symbols = [] # initialize list to store symbols of the top 4 companies from each sector\n",
    "# loop through each sector to find the top 4 companies\n",
    "for asector in top_four_sectors_array:\n",
    "    companies_in_sector_df = datahub_df.loc[datahub_df['Sector'] == asector]\n",
    "    top_companies_in_sector_df = companies_in_sector_df.nlargest(4, 'Market Cap')  \n",
    "    symbols.append(top_companies_in_sector_df['Symbol'].tolist()) # append the list to the list symbols\n",
    "\n",
    "print(symbols)"
   ]
  },
  {
   "cell_type": "code",
   "execution_count": 6,
   "metadata": {},
   "outputs": [
    {
     "name": "stdout",
     "output_type": "stream",
     "text": [
      "https://www.alphavantage.co/query?function=TIME_SERIES_DAILY&symbol=MSFT&outputsize=full&apikey=A2JKUWFZLQ7633GK\n"
     ]
    }
   ],
   "source": [
    "# ALPHA VANTAGE API SCRAPING\n",
    "\n",
    "# will need function, symbol, and api key in order to import the json from the api\n",
    "url_alpha_vantage = \"https://www.alphavantage.co/\" \n",
    "\n",
    "# url variables\n",
    "function = \"TIME_SERIES_DAILY\"\n",
    "symbol = \"MSFT\"\n",
    "outputsize = \"full\" # full or compact (100 latest vs all data)\n",
    "\n",
    "# Following the query will show you a xml(?) page, which you should do because it is good for understanding.\n",
    "# I've uncommented the print(query) command so you can click on the link and see for yourself (don't abuse Ram's key!)\n",
    "query = url_alpha_vantage + \"query?\" + \"function=\" + function + \"&symbol=\" + symbol +\"&outputsize=\" + outputsize + \"&apikey=\" + av_key  \n",
    "url_response = requests.get(query).json()\n",
    "\n",
    "\n",
    "print(query)\n",
    "# pretty print the json\n",
    "# print(json.dumps(url_response, indent=4, sort_keys=True))"
   ]
  },
  {
   "cell_type": "code",
   "execution_count": 7,
   "metadata": {
    "scrolled": true
   },
   "outputs": [
    {
     "data": {
      "text/plain": [
       "Text(0, 0.5, 'Price ($)')"
      ]
     },
     "execution_count": 7,
     "metadata": {},
     "output_type": "execute_result"
    },
    {
     "data": {
      "image/png": "[encoded data removed]",
      "text/plain": [
       "<Figure size 432x288 with 1 Axes>"
      ]
     },
     "metadata": {},
     "output_type": "display_data"
    }
   ],
   "source": [
    "# create a data frame from the json\n",
    "# I'm renaming this thing two times to show the logic - we are getting three year data for one company, Microsoft.\n",
    "# Then, we are accessing the Time Series (Daily) dict metadata (first out of five), then I am abbreviating it.\n",
    "microsoft_df = timeseries_df = ts_df = pd.DataFrame.from_dict(url_response[\"Time Series (Daily)\"])\n",
    "\n",
    "\n",
    "# artifacts from testing (ignore unless you want to try things out yourself.)\n",
    "# microsoft_df = pd.DataFrame.from_dict(url_response, orient = 'columns')\n",
    "#microsoft_df = microsoft_df.tail(730)\n",
    "\n",
    "\n",
    "\n",
    "# Rename the index to actually be accurate.\n",
    "ts_df.index.name = \"Date\"\n",
    "\n",
    "# only look at data from the past 3 years \n",
    "ts_df = ts_df.T.head(730)\n",
    "\n",
    "# Rename columns so they don't look unprocessed and bad.\n",
    "# create the dictionary to pass to the rename method.\n",
    "re_col = {\"1. open\": \"Open\", \"2. high\": \"High\", \"3. low\": \"Low\",\"4. close\": \"Close\", \"5. volume\": \"Volume\"}\n",
    "\n",
    "# baptize the columns.\n",
    "ts_df = ts_df.rename(columns = re_col)\n",
    "\n",
    "#sort so that the dates go from 2016 to 2019 instead of the reverse.\n",
    "ts_df = ts_df.loc[::-1,:]\n",
    "\n",
    "#display(ts_df.head(730)) #use to show the data we are plotting.\n",
    "\n",
    "\n",
    "#begin visualization of one stock\n",
    "\n",
    "index = list(ts_df.index)\n",
    "\n",
    "\n",
    "\n",
    "vis_df = pd.DataFrame({\"High\":ts_df[\"High\"]}, index = index)\n",
    "vis_df = vis_df.astype(float)\n",
    "\n",
    "\n",
    "plt.style.use('seaborn-white')\n",
    "vis_df.plot(grid=True,title=f'Three Year Data for {symbol}', xticks=([w*7*12 for w in range(10)]),rot=45)\n",
    "plt.xlabel(\"Date\")\n",
    "plt.ylabel(\"Price ($)\")"
   ]
  },
  {
   "cell_type": "code",
   "execution_count": 8,
   "metadata": {},
   "outputs": [],
   "source": [
    "# should only be shown once at the end of notebook\n",
    "plt.show()"
   ]
  }
 ],
 "metadata": {
  "kernelspec": {
   "display_name": "Python 3",
   "language": "python",
   "name": "python3"
  },
  "language_info": {
   "codemirror_mode": {
    "name": "ipython",
    "version": 3
   },
   "file_extension": ".py",
   "mimetype": "text/x-python",
   "name": "python",
   "nbconvert_exporter": "python",
   "pygments_lexer": "ipython3",
   "version": "3.7.1"
  }
 },
 "nbformat": 4,
 "nbformat_minor": 2
}
